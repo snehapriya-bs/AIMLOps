{
  "cells": [
    {
      "cell_type": "markdown",
      "metadata": {
        "id": "hTplQkOMsKhd"
      },
      "source": [
        "# Advanced Certification Programme in AI and MLOps\n",
        "## A programme by IISc and TalentSprint\n",
        "### Mini-Project Notebook: Structured Data Classification"
      ]
    },
    {
      "cell_type": "markdown",
      "metadata": {
        "id": "SZlu0P9jj_ei"
      },
      "source": [
        "## Problem Statement"
      ]
    },
    {
      "cell_type": "markdown",
      "metadata": {
        "id": "3xaJosu2kfGE"
      },
      "source": [
        "To predict whether a patient has a heart disease."
      ]
    },
    {
      "cell_type": "markdown",
      "metadata": {
        "id": "8N0iS4ipU_XM"
      },
      "source": [
        "## Learning Objectives"
      ]
    },
    {
      "cell_type": "markdown",
      "metadata": {
        "id": "K8OXq65pVDDS"
      },
      "source": [
        "At the end of the experiment, you will be able to\n",
        "\n",
        "* understand the Cleveland Clinic Foundation for Heart Disease dataset\n",
        "* pre-process this dataset\n",
        "* build a neural network architecture/model using Keras sequential or functional api\n",
        "* perform model training\n",
        "* perform inference on an unseen data\n",
        "* build a Gradio interface for this application"
      ]
    },
    {
      "cell_type": "markdown",
      "source": [
        "## Introduction\n",
        "\n",
        "This example demonstrates how to do structured data classification, starting from a raw\n",
        "CSV file. Our data includes both numerical and categorical features. We will do preprocessing to normalize the numerical features and vectorize the categorical\n",
        "ones."
      ],
      "metadata": {
        "id": "5zBPlw87J9cF"
      }
    },
    {
      "cell_type": "markdown",
      "metadata": {
        "id": "bScMHnbIaxsQ"
      },
      "source": [
        "### Dataset\n",
        "\n",
        "[Our dataset](https://archive.ics.uci.edu/ml/datasets/heart+Disease) is provided by the\n",
        "Cleveland Clinic Foundation for Heart Disease.\n",
        "It's a CSV file with 303 rows. Each row contains information about a patient (a\n",
        "**sample**), and each column describes an attribute of the patient (a **feature**). We\n",
        "use the features to predict whether a patient has a heart disease (**binary\n",
        "classification**).\n",
        "\n",
        "Here's the description of each feature:\n",
        "\n",
        "Column| Description| Feature Type\n",
        "------------|--------------------|----------------------\n",
        "Age | Age in years | Numerical\n",
        "Sex | (1 = male; 0 = female) | Categorical\n",
        "CP | Chest pain type (0, 1, 2, 3, 4) | Categorical\n",
        "Trestbpd | Resting blood pressure (in mm Hg on admission) | Numerical\n",
        "Chol | Serum cholesterol in mg/dl | Numerical\n",
        "FBS | fasting blood sugar in 120 mg/dl (1 = true; 0 = false) | Categorical\n",
        "RestECG | Resting electrocardiogram results (0, 1, 2) | Categorical\n",
        "Thalach | Maximum heart rate achieved | Numerical\n",
        "Exang | Exercise induced angina (1 = yes; 0 = no) | Categorical\n",
        "Oldpeak | ST depression induced by exercise relative to rest | Numerical\n",
        "Slope | Slope of the peak exercise ST segment | Numerical\n",
        "CA | Number of major vessels (0-3) colored by fluoroscopy | Both numerical & categorical\n",
        "Thal | 3 = normal; 6 = fixed defect; 7 = reversible defect | Categorical\n",
        "Target | Diagnosis of heart disease (1 = true; 0 = false) | Target"
      ]
    },
    {
      "cell_type": "code",
      "execution_count": null,
      "metadata": {
        "id": "812a816f",
        "cellView": "form",
        "colab": {
          "base_uri": "https://localhost:8080/"
        },
        "outputId": "026da766-d594-4413-b6fb-4c9546c80a30"
      },
      "outputs": [
        {
          "output_type": "stream",
          "name": "stdout",
          "text": [
            "Data Downloaded Successfuly!!\n",
            "heart.csv\n"
          ]
        }
      ],
      "source": [
        "#@title Download the data\n",
        "!wget -qq https://cdn.iisc.talentsprint.com/AIandMLOps/Datasets/heart.csv\n",
        "print(\"Data Downloaded Successfuly!!\")\n",
        "!ls | grep '.csv'"
      ]
    },
    {
      "cell_type": "markdown",
      "metadata": {
        "id": "operating-latter"
      },
      "source": [
        "## Grading = 10 Points"
      ]
    },
    {
      "cell_type": "markdown",
      "metadata": {
        "id": "1TmXyc2bRFvM"
      },
      "source": [
        "### Import Required Packages"
      ]
    },
    {
      "cell_type": "code",
      "execution_count": null,
      "metadata": {
        "id": "MK4EbY6xaxsR"
      },
      "outputs": [],
      "source": [
        "import tensorflow as tf\n",
        "import numpy as np\n",
        "import pandas as pd\n",
        "from tensorflow import keras\n",
        "from tensorflow.keras import layers"
      ]
    },
    {
      "cell_type": "markdown",
      "metadata": {
        "id": "um9l0z7Kj8ft"
      },
      "source": [
        "## Load the data and pre-process it [3 Marks]"
      ]
    },
    {
      "cell_type": "markdown",
      "source": [
        "### Load data into a Pandas dataframe\n",
        "\n",
        "Hint:: pd.read_csv"
      ],
      "metadata": {
        "id": "V7IEMgJ8jnGr"
      }
    },
    {
      "cell_type": "code",
      "execution_count": null,
      "metadata": {
        "id": "6N7lrEsZaxsT"
      },
      "outputs": [],
      "source": [
        "file_url = \"/content/heart.csv\"\n",
        "## YOUR CODE HERE\n",
        "heart_df = pd.read_csv(file_url)\n"
      ]
    },
    {
      "cell_type": "markdown",
      "metadata": {
        "id": "M-f50aCJaxsT"
      },
      "source": [
        "Check the shape of the dataset:"
      ]
    },
    {
      "cell_type": "code",
      "execution_count": null,
      "metadata": {
        "id": "nrNUOPFVaxsT",
        "colab": {
          "base_uri": "https://localhost:8080/"
        },
        "outputId": "68da72ac-6374-4c30-92ba-1b7beb275f78"
      },
      "outputs": [
        {
          "output_type": "execute_result",
          "data": {
            "text/plain": [
              "(303, 14)"
            ]
          },
          "metadata": {},
          "execution_count": 4
        }
      ],
      "source": [
        "## YOUR CODE HERE\n",
        "heart_df.shape"
      ]
    },
    {
      "cell_type": "markdown",
      "metadata": {
        "id": "ptTMb_dsaxsU"
      },
      "source": [
        "Check the preview of a few samples:\n",
        "\n",
        "Hint:: head()"
      ]
    },
    {
      "cell_type": "code",
      "execution_count": null,
      "metadata": {
        "id": "zHjlz0HhaxsU",
        "colab": {
          "base_uri": "https://localhost:8080/",
          "height": 206
        },
        "outputId": "a373ce41-5c2b-43fe-c7d6-dbb46aa0dfbb"
      },
      "outputs": [
        {
          "output_type": "execute_result",
          "data": {
            "text/plain": [
              "   age  sex  cp  trestbps  chol  fbs  restecg  thalach  exang  oldpeak  slope  \\\n",
              "0   63    1   1       145   233    1        2      150      0      2.3      3   \n",
              "1   67    1   4       160   286    0        2      108      1      1.5      2   \n",
              "2   67    1   4       120   229    0        2      129      1      2.6      2   \n",
              "3   37    1   3       130   250    0        0      187      0      3.5      3   \n",
              "4   41    0   2       130   204    0        2      172      0      1.4      1   \n",
              "\n",
              "   ca        thal  target  \n",
              "0   0       fixed       0  \n",
              "1   3      normal       1  \n",
              "2   2  reversible       0  \n",
              "3   0      normal       0  \n",
              "4   0      normal       0  "
            ],
            "text/html": [
              "\n",
              "  <div id=\"df-be04543b-2364-44cd-a490-4ae6680cf32e\" class=\"colab-df-container\">\n",
              "    <div>\n",
              "<style scoped>\n",
              "    .dataframe tbody tr th:only-of-type {\n",
              "        vertical-align: middle;\n",
              "    }\n",
              "\n",
              "    .dataframe tbody tr th {\n",
              "        vertical-align: top;\n",
              "    }\n",
              "\n",
              "    .dataframe thead th {\n",
              "        text-align: right;\n",
              "    }\n",
              "</style>\n",
              "<table border=\"1\" class=\"dataframe\">\n",
              "  <thead>\n",
              "    <tr style=\"text-align: right;\">\n",
              "      <th></th>\n",
              "      <th>age</th>\n",
              "      <th>sex</th>\n",
              "      <th>cp</th>\n",
              "      <th>trestbps</th>\n",
              "      <th>chol</th>\n",
              "      <th>fbs</th>\n",
              "      <th>restecg</th>\n",
              "      <th>thalach</th>\n",
              "      <th>exang</th>\n",
              "      <th>oldpeak</th>\n",
              "      <th>slope</th>\n",
              "      <th>ca</th>\n",
              "      <th>thal</th>\n",
              "      <th>target</th>\n",
              "    </tr>\n",
              "  </thead>\n",
              "  <tbody>\n",
              "    <tr>\n",
              "      <th>0</th>\n",
              "      <td>63</td>\n",
              "      <td>1</td>\n",
              "      <td>1</td>\n",
              "      <td>145</td>\n",
              "      <td>233</td>\n",
              "      <td>1</td>\n",
              "      <td>2</td>\n",
              "      <td>150</td>\n",
              "      <td>0</td>\n",
              "      <td>2.3</td>\n",
              "      <td>3</td>\n",
              "      <td>0</td>\n",
              "      <td>fixed</td>\n",
              "      <td>0</td>\n",
              "    </tr>\n",
              "    <tr>\n",
              "      <th>1</th>\n",
              "      <td>67</td>\n",
              "      <td>1</td>\n",
              "      <td>4</td>\n",
              "      <td>160</td>\n",
              "      <td>286</td>\n",
              "      <td>0</td>\n",
              "      <td>2</td>\n",
              "      <td>108</td>\n",
              "      <td>1</td>\n",
              "      <td>1.5</td>\n",
              "      <td>2</td>\n",
              "      <td>3</td>\n",
              "      <td>normal</td>\n",
              "      <td>1</td>\n",
              "    </tr>\n",
              "    <tr>\n",
              "      <th>2</th>\n",
              "      <td>67</td>\n",
              "      <td>1</td>\n",
              "      <td>4</td>\n",
              "      <td>120</td>\n",
              "      <td>229</td>\n",
              "      <td>0</td>\n",
              "      <td>2</td>\n",
              "      <td>129</td>\n",
              "      <td>1</td>\n",
              "      <td>2.6</td>\n",
              "      <td>2</td>\n",
              "      <td>2</td>\n",
              "      <td>reversible</td>\n",
              "      <td>0</td>\n",
              "    </tr>\n",
              "    <tr>\n",
              "      <th>3</th>\n",
              "      <td>37</td>\n",
              "      <td>1</td>\n",
              "      <td>3</td>\n",
              "      <td>130</td>\n",
              "      <td>250</td>\n",
              "      <td>0</td>\n",
              "      <td>0</td>\n",
              "      <td>187</td>\n",
              "      <td>0</td>\n",
              "      <td>3.5</td>\n",
              "      <td>3</td>\n",
              "      <td>0</td>\n",
              "      <td>normal</td>\n",
              "      <td>0</td>\n",
              "    </tr>\n",
              "    <tr>\n",
              "      <th>4</th>\n",
              "      <td>41</td>\n",
              "      <td>0</td>\n",
              "      <td>2</td>\n",
              "      <td>130</td>\n",
              "      <td>204</td>\n",
              "      <td>0</td>\n",
              "      <td>2</td>\n",
              "      <td>172</td>\n",
              "      <td>0</td>\n",
              "      <td>1.4</td>\n",
              "      <td>1</td>\n",
              "      <td>0</td>\n",
              "      <td>normal</td>\n",
              "      <td>0</td>\n",
              "    </tr>\n",
              "  </tbody>\n",
              "</table>\n",
              "</div>\n",
              "    <div class=\"colab-df-buttons\">\n",
              "\n",
              "  <div class=\"colab-df-container\">\n",
              "    <button class=\"colab-df-convert\" onclick=\"convertToInteractive('df-be04543b-2364-44cd-a490-4ae6680cf32e')\"\n",
              "            title=\"Convert this dataframe to an interactive table.\"\n",
              "            style=\"display:none;\">\n",
              "\n",
              "  <svg xmlns=\"http://www.w3.org/2000/svg\" height=\"24px\" viewBox=\"0 -960 960 960\">\n",
              "    <path d=\"M120-120v-720h720v720H120Zm60-500h600v-160H180v160Zm220 220h160v-160H400v160Zm0 220h160v-160H400v160ZM180-400h160v-160H180v160Zm440 0h160v-160H620v160ZM180-180h160v-160H180v160Zm440 0h160v-160H620v160Z\"/>\n",
              "  </svg>\n",
              "    </button>\n",
              "\n",
              "  <style>\n",
              "    .colab-df-container {\n",
              "      display:flex;\n",
              "      gap: 12px;\n",
              "    }\n",
              "\n",
              "    .colab-df-convert {\n",
              "      background-color: #E8F0FE;\n",
              "      border: none;\n",
              "      border-radius: 50%;\n",
              "      cursor: pointer;\n",
              "      display: none;\n",
              "      fill: #1967D2;\n",
              "      height: 32px;\n",
              "      padding: 0 0 0 0;\n",
              "      width: 32px;\n",
              "    }\n",
              "\n",
              "    .colab-df-convert:hover {\n",
              "      background-color: #E2EBFA;\n",
              "      box-shadow: 0px 1px 2px rgba(60, 64, 67, 0.3), 0px 1px 3px 1px rgba(60, 64, 67, 0.15);\n",
              "      fill: #174EA6;\n",
              "    }\n",
              "\n",
              "    .colab-df-buttons div {\n",
              "      margin-bottom: 4px;\n",
              "    }\n",
              "\n",
              "    [theme=dark] .colab-df-convert {\n",
              "      background-color: #3B4455;\n",
              "      fill: #D2E3FC;\n",
              "    }\n",
              "\n",
              "    [theme=dark] .colab-df-convert:hover {\n",
              "      background-color: #434B5C;\n",
              "      box-shadow: 0px 1px 3px 1px rgba(0, 0, 0, 0.15);\n",
              "      filter: drop-shadow(0px 1px 2px rgba(0, 0, 0, 0.3));\n",
              "      fill: #FFFFFF;\n",
              "    }\n",
              "  </style>\n",
              "\n",
              "    <script>\n",
              "      const buttonEl =\n",
              "        document.querySelector('#df-be04543b-2364-44cd-a490-4ae6680cf32e button.colab-df-convert');\n",
              "      buttonEl.style.display =\n",
              "        google.colab.kernel.accessAllowed ? 'block' : 'none';\n",
              "\n",
              "      async function convertToInteractive(key) {\n",
              "        const element = document.querySelector('#df-be04543b-2364-44cd-a490-4ae6680cf32e');\n",
              "        const dataTable =\n",
              "          await google.colab.kernel.invokeFunction('convertToInteractive',\n",
              "                                                    [key], {});\n",
              "        if (!dataTable) return;\n",
              "\n",
              "        const docLinkHtml = 'Like what you see? Visit the ' +\n",
              "          '<a target=\"_blank\" href=https://colab.research.google.com/notebooks/data_table.ipynb>data table notebook</a>'\n",
              "          + ' to learn more about interactive tables.';\n",
              "        element.innerHTML = '';\n",
              "        dataTable['output_type'] = 'display_data';\n",
              "        await google.colab.output.renderOutput(dataTable, element);\n",
              "        const docLink = document.createElement('div');\n",
              "        docLink.innerHTML = docLinkHtml;\n",
              "        element.appendChild(docLink);\n",
              "      }\n",
              "    </script>\n",
              "  </div>\n",
              "\n",
              "\n",
              "<div id=\"df-24672320-1ebf-4f94-acc5-aacda570f047\">\n",
              "  <button class=\"colab-df-quickchart\" onclick=\"quickchart('df-24672320-1ebf-4f94-acc5-aacda570f047')\"\n",
              "            title=\"Suggest charts\"\n",
              "            style=\"display:none;\">\n",
              "\n",
              "<svg xmlns=\"http://www.w3.org/2000/svg\" height=\"24px\"viewBox=\"0 0 24 24\"\n",
              "     width=\"24px\">\n",
              "    <g>\n",
              "        <path d=\"M19 3H5c-1.1 0-2 .9-2 2v14c0 1.1.9 2 2 2h14c1.1 0 2-.9 2-2V5c0-1.1-.9-2-2-2zM9 17H7v-7h2v7zm4 0h-2V7h2v10zm4 0h-2v-4h2v4z\"/>\n",
              "    </g>\n",
              "</svg>\n",
              "  </button>\n",
              "\n",
              "<style>\n",
              "  .colab-df-quickchart {\n",
              "      --bg-color: #E8F0FE;\n",
              "      --fill-color: #1967D2;\n",
              "      --hover-bg-color: #E2EBFA;\n",
              "      --hover-fill-color: #174EA6;\n",
              "      --disabled-fill-color: #AAA;\n",
              "      --disabled-bg-color: #DDD;\n",
              "  }\n",
              "\n",
              "  [theme=dark] .colab-df-quickchart {\n",
              "      --bg-color: #3B4455;\n",
              "      --fill-color: #D2E3FC;\n",
              "      --hover-bg-color: #434B5C;\n",
              "      --hover-fill-color: #FFFFFF;\n",
              "      --disabled-bg-color: #3B4455;\n",
              "      --disabled-fill-color: #666;\n",
              "  }\n",
              "\n",
              "  .colab-df-quickchart {\n",
              "    background-color: var(--bg-color);\n",
              "    border: none;\n",
              "    border-radius: 50%;\n",
              "    cursor: pointer;\n",
              "    display: none;\n",
              "    fill: var(--fill-color);\n",
              "    height: 32px;\n",
              "    padding: 0;\n",
              "    width: 32px;\n",
              "  }\n",
              "\n",
              "  .colab-df-quickchart:hover {\n",
              "    background-color: var(--hover-bg-color);\n",
              "    box-shadow: 0 1px 2px rgba(60, 64, 67, 0.3), 0 1px 3px 1px rgba(60, 64, 67, 0.15);\n",
              "    fill: var(--button-hover-fill-color);\n",
              "  }\n",
              "\n",
              "  .colab-df-quickchart-complete:disabled,\n",
              "  .colab-df-quickchart-complete:disabled:hover {\n",
              "    background-color: var(--disabled-bg-color);\n",
              "    fill: var(--disabled-fill-color);\n",
              "    box-shadow: none;\n",
              "  }\n",
              "\n",
              "  .colab-df-spinner {\n",
              "    border: 2px solid var(--fill-color);\n",
              "    border-color: transparent;\n",
              "    border-bottom-color: var(--fill-color);\n",
              "    animation:\n",
              "      spin 1s steps(1) infinite;\n",
              "  }\n",
              "\n",
              "  @keyframes spin {\n",
              "    0% {\n",
              "      border-color: transparent;\n",
              "      border-bottom-color: var(--fill-color);\n",
              "      border-left-color: var(--fill-color);\n",
              "    }\n",
              "    20% {\n",
              "      border-color: transparent;\n",
              "      border-left-color: var(--fill-color);\n",
              "      border-top-color: var(--fill-color);\n",
              "    }\n",
              "    30% {\n",
              "      border-color: transparent;\n",
              "      border-left-color: var(--fill-color);\n",
              "      border-top-color: var(--fill-color);\n",
              "      border-right-color: var(--fill-color);\n",
              "    }\n",
              "    40% {\n",
              "      border-color: transparent;\n",
              "      border-right-color: var(--fill-color);\n",
              "      border-top-color: var(--fill-color);\n",
              "    }\n",
              "    60% {\n",
              "      border-color: transparent;\n",
              "      border-right-color: var(--fill-color);\n",
              "    }\n",
              "    80% {\n",
              "      border-color: transparent;\n",
              "      border-right-color: var(--fill-color);\n",
              "      border-bottom-color: var(--fill-color);\n",
              "    }\n",
              "    90% {\n",
              "      border-color: transparent;\n",
              "      border-bottom-color: var(--fill-color);\n",
              "    }\n",
              "  }\n",
              "</style>\n",
              "\n",
              "  <script>\n",
              "    async function quickchart(key) {\n",
              "      const quickchartButtonEl =\n",
              "        document.querySelector('#' + key + ' button');\n",
              "      quickchartButtonEl.disabled = true;  // To prevent multiple clicks.\n",
              "      quickchartButtonEl.classList.add('colab-df-spinner');\n",
              "      try {\n",
              "        const charts = await google.colab.kernel.invokeFunction(\n",
              "            'suggestCharts', [key], {});\n",
              "      } catch (error) {\n",
              "        console.error('Error during call to suggestCharts:', error);\n",
              "      }\n",
              "      quickchartButtonEl.classList.remove('colab-df-spinner');\n",
              "      quickchartButtonEl.classList.add('colab-df-quickchart-complete');\n",
              "    }\n",
              "    (() => {\n",
              "      let quickchartButtonEl =\n",
              "        document.querySelector('#df-24672320-1ebf-4f94-acc5-aacda570f047 button');\n",
              "      quickchartButtonEl.style.display =\n",
              "        google.colab.kernel.accessAllowed ? 'block' : 'none';\n",
              "    })();\n",
              "  </script>\n",
              "</div>\n",
              "\n",
              "    </div>\n",
              "  </div>\n"
            ],
            "application/vnd.google.colaboratory.intrinsic+json": {
              "type": "dataframe",
              "variable_name": "heart_df",
              "summary": "{\n  \"name\": \"heart_df\",\n  \"rows\": 303,\n  \"fields\": [\n    {\n      \"column\": \"age\",\n      \"properties\": {\n        \"dtype\": \"number\",\n        \"std\": 9,\n        \"min\": 29,\n        \"max\": 77,\n        \"num_unique_values\": 41,\n        \"samples\": [\n          61,\n          64,\n          44\n        ],\n        \"semantic_type\": \"\",\n        \"description\": \"\"\n      }\n    },\n    {\n      \"column\": \"sex\",\n      \"properties\": {\n        \"dtype\": \"number\",\n        \"std\": 0,\n        \"min\": 0,\n        \"max\": 1,\n        \"num_unique_values\": 2,\n        \"samples\": [\n          0,\n          1\n        ],\n        \"semantic_type\": \"\",\n        \"description\": \"\"\n      }\n    },\n    {\n      \"column\": \"cp\",\n      \"properties\": {\n        \"dtype\": \"number\",\n        \"std\": 1,\n        \"min\": 0,\n        \"max\": 4,\n        \"num_unique_values\": 5,\n        \"samples\": [\n          4,\n          0\n        ],\n        \"semantic_type\": \"\",\n        \"description\": \"\"\n      }\n    },\n    {\n      \"column\": \"trestbps\",\n      \"properties\": {\n        \"dtype\": \"number\",\n        \"std\": 17,\n        \"min\": 94,\n        \"max\": 200,\n        \"num_unique_values\": 50,\n        \"samples\": [\n          104,\n          192\n        ],\n        \"semantic_type\": \"\",\n        \"description\": \"\"\n      }\n    },\n    {\n      \"column\": \"chol\",\n      \"properties\": {\n        \"dtype\": \"number\",\n        \"std\": 52,\n        \"min\": 126,\n        \"max\": 564,\n        \"num_unique_values\": 152,\n        \"samples\": [\n          261,\n          182\n        ],\n        \"semantic_type\": \"\",\n        \"description\": \"\"\n      }\n    },\n    {\n      \"column\": \"fbs\",\n      \"properties\": {\n        \"dtype\": \"number\",\n        \"std\": 0,\n        \"min\": 0,\n        \"max\": 1,\n        \"num_unique_values\": 2,\n        \"samples\": [\n          0,\n          1\n        ],\n        \"semantic_type\": \"\",\n        \"description\": \"\"\n      }\n    },\n    {\n      \"column\": \"restecg\",\n      \"properties\": {\n        \"dtype\": \"number\",\n        \"std\": 0,\n        \"min\": 0,\n        \"max\": 2,\n        \"num_unique_values\": 3,\n        \"samples\": [\n          2,\n          0\n        ],\n        \"semantic_type\": \"\",\n        \"description\": \"\"\n      }\n    },\n    {\n      \"column\": \"thalach\",\n      \"properties\": {\n        \"dtype\": \"number\",\n        \"std\": 23,\n        \"min\": 71,\n        \"max\": 202,\n        \"num_unique_values\": 91,\n        \"samples\": [\n          175,\n          114\n        ],\n        \"semantic_type\": \"\",\n        \"description\": \"\"\n      }\n    },\n    {\n      \"column\": \"exang\",\n      \"properties\": {\n        \"dtype\": \"number\",\n        \"std\": 0,\n        \"min\": 0,\n        \"max\": 1,\n        \"num_unique_values\": 2,\n        \"samples\": [\n          1,\n          0\n        ],\n        \"semantic_type\": \"\",\n        \"description\": \"\"\n      }\n    },\n    {\n      \"column\": \"oldpeak\",\n      \"properties\": {\n        \"dtype\": \"number\",\n        \"std\": 1.1650246194814897,\n        \"min\": 0.0,\n        \"max\": 6.2,\n        \"num_unique_values\": 40,\n        \"samples\": [\n          2.4,\n          0.2\n        ],\n        \"semantic_type\": \"\",\n        \"description\": \"\"\n      }\n    },\n    {\n      \"column\": \"slope\",\n      \"properties\": {\n        \"dtype\": \"number\",\n        \"std\": 0,\n        \"min\": 1,\n        \"max\": 3,\n        \"num_unique_values\": 3,\n        \"samples\": [\n          3,\n          2\n        ],\n        \"semantic_type\": \"\",\n        \"description\": \"\"\n      }\n    },\n    {\n      \"column\": \"ca\",\n      \"properties\": {\n        \"dtype\": \"number\",\n        \"std\": 0,\n        \"min\": 0,\n        \"max\": 3,\n        \"num_unique_values\": 4,\n        \"samples\": [\n          3,\n          1\n        ],\n        \"semantic_type\": \"\",\n        \"description\": \"\"\n      }\n    },\n    {\n      \"column\": \"thal\",\n      \"properties\": {\n        \"dtype\": \"category\",\n        \"num_unique_values\": 5,\n        \"samples\": [\n          \"normal\",\n          \"2\"\n        ],\n        \"semantic_type\": \"\",\n        \"description\": \"\"\n      }\n    },\n    {\n      \"column\": \"target\",\n      \"properties\": {\n        \"dtype\": \"number\",\n        \"std\": 0,\n        \"min\": 0,\n        \"max\": 1,\n        \"num_unique_values\": 2,\n        \"samples\": [\n          1,\n          0\n        ],\n        \"semantic_type\": \"\",\n        \"description\": \"\"\n      }\n    }\n  ]\n}"
            }
          },
          "metadata": {},
          "execution_count": 5
        }
      ],
      "source": [
        "## YOUR CODE HERE\n",
        "heart_df.head()"
      ]
    },
    {
      "cell_type": "markdown",
      "metadata": {
        "id": "Glx6sm_daxsU"
      },
      "source": [
        "Draw some inference from the data. What does the target column indicate?\n",
        "\n",
        "The last column, \"target\", indicates whether the patient has a heart disease (1) or not\n",
        "(0)."
      ]
    },
    {
      "cell_type": "markdown",
      "source": [
        "### Missing values"
      ],
      "metadata": {
        "id": "gLwe9H-QyY8s"
      }
    },
    {
      "cell_type": "code",
      "source": [
        "# Check if any missing values is present\n",
        "## YOUR CODE HERE\n",
        "heart_df.info()"
      ],
      "metadata": {
        "id": "L7myRw8fRML_",
        "colab": {
          "base_uri": "https://localhost:8080/"
        },
        "outputId": "62ee8a3e-ed45-497f-d5e1-cb4d01307505"
      },
      "execution_count": null,
      "outputs": [
        {
          "output_type": "stream",
          "name": "stdout",
          "text": [
            "<class 'pandas.core.frame.DataFrame'>\n",
            "RangeIndex: 303 entries, 0 to 302\n",
            "Data columns (total 14 columns):\n",
            " #   Column    Non-Null Count  Dtype  \n",
            "---  ------    --------------  -----  \n",
            " 0   age       303 non-null    int64  \n",
            " 1   sex       303 non-null    int64  \n",
            " 2   cp        303 non-null    int64  \n",
            " 3   trestbps  303 non-null    int64  \n",
            " 4   chol      303 non-null    int64  \n",
            " 5   fbs       303 non-null    int64  \n",
            " 6   restecg   303 non-null    int64  \n",
            " 7   thalach   303 non-null    int64  \n",
            " 8   exang     303 non-null    int64  \n",
            " 9   oldpeak   303 non-null    float64\n",
            " 10  slope     303 non-null    int64  \n",
            " 11  ca        303 non-null    int64  \n",
            " 12  thal      303 non-null    object \n",
            " 13  target    303 non-null    int64  \n",
            "dtypes: float64(1), int64(12), object(1)\n",
            "memory usage: 33.3+ KB\n"
          ]
        }
      ]
    },
    {
      "cell_type": "markdown",
      "source": [
        "### Show the unique values present in each categorical columns\n",
        "\n",
        "- Remove the rows which has '1' and '2' as values in `thal` column"
      ],
      "metadata": {
        "id": "_4t2pkXMPmb0"
      }
    },
    {
      "cell_type": "code",
      "source": [
        "# Show all the columns in dataframe\n",
        "## YOUR CODE HERE\n",
        "\n",
        "heart_df.columns"
      ],
      "metadata": {
        "id": "vKTkEHCDVHO-",
        "colab": {
          "base_uri": "https://localhost:8080/"
        },
        "outputId": "220a94ad-799e-43b0-e6fa-1a3390288e33"
      },
      "execution_count": null,
      "outputs": [
        {
          "output_type": "execute_result",
          "data": {
            "text/plain": [
              "Index(['age', 'sex', 'cp', 'trestbps', 'chol', 'fbs', 'restecg', 'thalach',\n",
              "       'exang', 'oldpeak', 'slope', 'ca', 'thal', 'target'],\n",
              "      dtype='object')"
            ]
          },
          "metadata": {},
          "execution_count": 7
        }
      ]
    },
    {
      "cell_type": "code",
      "source": [
        "# Print the unique values present in each categorical columns\n",
        "\n",
        "categorical_cols = ['sex', 'cp', 'fbs', 'restecg', 'exang', 'ca', 'thal']\n",
        "\n",
        "## YOUR CODE HERE\n",
        "\n",
        "for col in categorical_cols:\n",
        "    print('Unique values in categorical column:', col)\n",
        "    print(heart_df[col].unique())\n"
      ],
      "metadata": {
        "id": "dlEsu12GRWjV",
        "colab": {
          "base_uri": "https://localhost:8080/"
        },
        "outputId": "1e2055c3-e1ef-4e1e-d76b-48953cd4607a"
      },
      "execution_count": null,
      "outputs": [
        {
          "output_type": "stream",
          "name": "stdout",
          "text": [
            "Unique values in categorical column: sex\n",
            "[1 0]\n",
            "Unique values in categorical column: cp\n",
            "[1 4 3 2 0]\n",
            "Unique values in categorical column: fbs\n",
            "[1 0]\n",
            "Unique values in categorical column: restecg\n",
            "[2 0 1]\n",
            "Unique values in categorical column: exang\n",
            "[0 1]\n",
            "Unique values in categorical column: ca\n",
            "[0 3 2 1]\n",
            "Unique values in categorical column: thal\n",
            "['fixed' 'normal' 'reversible' '1' '2']\n"
          ]
        }
      ]
    },
    {
      "cell_type": "code",
      "source": [
        "# Print the unique values present in each categorical columns along with their counts\n",
        "\n",
        "## YOUR CODE HERE\n",
        "for col in categorical_cols:\n",
        "    print('categorical column counts:')\n",
        "    print(heart_df[col].value_counts())"
      ],
      "metadata": {
        "id": "g5wU-xHZSm3B",
        "colab": {
          "base_uri": "https://localhost:8080/"
        },
        "outputId": "c9bb0a43-3bf9-49e4-dd10-dfb780963141"
      },
      "execution_count": null,
      "outputs": [
        {
          "output_type": "stream",
          "name": "stdout",
          "text": [
            "categorical column counts:\n",
            "sex\n",
            "1    205\n",
            "0     98\n",
            "Name: count, dtype: int64\n",
            "categorical column counts:\n",
            "cp\n",
            "4    142\n",
            "3     84\n",
            "2     49\n",
            "1     24\n",
            "0      4\n",
            "Name: count, dtype: int64\n",
            "categorical column counts:\n",
            "fbs\n",
            "0    258\n",
            "1     45\n",
            "Name: count, dtype: int64\n",
            "categorical column counts:\n",
            "restecg\n",
            "0    149\n",
            "2    146\n",
            "1      8\n",
            "Name: count, dtype: int64\n",
            "categorical column counts:\n",
            "exang\n",
            "0    204\n",
            "1     99\n",
            "Name: count, dtype: int64\n",
            "categorical column counts:\n",
            "ca\n",
            "0    176\n",
            "1     67\n",
            "2     40\n",
            "3     20\n",
            "Name: count, dtype: int64\n",
            "categorical column counts:\n",
            "thal\n",
            "normal        168\n",
            "reversible    115\n",
            "fixed          18\n",
            "1               1\n",
            "2               1\n",
            "Name: count, dtype: int64\n"
          ]
        }
      ]
    },
    {
      "cell_type": "markdown",
      "source": [
        "- Remove the rows which has '1' and '2' as values in `thal` column"
      ],
      "metadata": {
        "id": "iY17c68DQWQX"
      }
    },
    {
      "cell_type": "code",
      "source": [
        "# Find indices of the rows which has '1', '2' as values in `thal` column\n",
        "\n",
        "idx = heart_df.index[(heart_df['thal']== '1') | (heart_df['thal'] == '2')].to_list() ## YOUR CODE HERE\n",
        "\n",
        "idx"
      ],
      "metadata": {
        "id": "7D5_ykL3ya-L",
        "colab": {
          "base_uri": "https://localhost:8080/"
        },
        "outputId": "ff216dbc-21fb-4643-82a4-c3cb8eba5f9e"
      },
      "execution_count": null,
      "outputs": [
        {
          "output_type": "execute_result",
          "data": {
            "text/plain": [
              "[247, 252]"
            ]
          },
          "metadata": {},
          "execution_count": 10
        }
      ]
    },
    {
      "cell_type": "code",
      "source": [
        "heart_df.iloc[252]"
      ],
      "metadata": {
        "colab": {
          "base_uri": "https://localhost:8080/",
          "height": 523
        },
        "id": "-gJKZiqF3Uwn",
        "outputId": "6e8ddccb-c320-4d7f-984d-bc0f56daea97"
      },
      "execution_count": null,
      "outputs": [
        {
          "output_type": "execute_result",
          "data": {
            "text/plain": [
              "age          57\n",
              "sex           0\n",
              "cp            1\n",
              "trestbps    130\n",
              "chol        236\n",
              "fbs           0\n",
              "restecg       0\n",
              "thalach     174\n",
              "exang         0\n",
              "oldpeak     0.0\n",
              "slope         1\n",
              "ca            1\n",
              "thal          2\n",
              "target        0\n",
              "Name: 252, dtype: object"
            ],
            "text/html": [
              "<div>\n",
              "<style scoped>\n",
              "    .dataframe tbody tr th:only-of-type {\n",
              "        vertical-align: middle;\n",
              "    }\n",
              "\n",
              "    .dataframe tbody tr th {\n",
              "        vertical-align: top;\n",
              "    }\n",
              "\n",
              "    .dataframe thead th {\n",
              "        text-align: right;\n",
              "    }\n",
              "</style>\n",
              "<table border=\"1\" class=\"dataframe\">\n",
              "  <thead>\n",
              "    <tr style=\"text-align: right;\">\n",
              "      <th></th>\n",
              "      <th>252</th>\n",
              "    </tr>\n",
              "  </thead>\n",
              "  <tbody>\n",
              "    <tr>\n",
              "      <th>age</th>\n",
              "      <td>57</td>\n",
              "    </tr>\n",
              "    <tr>\n",
              "      <th>sex</th>\n",
              "      <td>0</td>\n",
              "    </tr>\n",
              "    <tr>\n",
              "      <th>cp</th>\n",
              "      <td>1</td>\n",
              "    </tr>\n",
              "    <tr>\n",
              "      <th>trestbps</th>\n",
              "      <td>130</td>\n",
              "    </tr>\n",
              "    <tr>\n",
              "      <th>chol</th>\n",
              "      <td>236</td>\n",
              "    </tr>\n",
              "    <tr>\n",
              "      <th>fbs</th>\n",
              "      <td>0</td>\n",
              "    </tr>\n",
              "    <tr>\n",
              "      <th>restecg</th>\n",
              "      <td>0</td>\n",
              "    </tr>\n",
              "    <tr>\n",
              "      <th>thalach</th>\n",
              "      <td>174</td>\n",
              "    </tr>\n",
              "    <tr>\n",
              "      <th>exang</th>\n",
              "      <td>0</td>\n",
              "    </tr>\n",
              "    <tr>\n",
              "      <th>oldpeak</th>\n",
              "      <td>0.0</td>\n",
              "    </tr>\n",
              "    <tr>\n",
              "      <th>slope</th>\n",
              "      <td>1</td>\n",
              "    </tr>\n",
              "    <tr>\n",
              "      <th>ca</th>\n",
              "      <td>1</td>\n",
              "    </tr>\n",
              "    <tr>\n",
              "      <th>thal</th>\n",
              "      <td>2</td>\n",
              "    </tr>\n",
              "    <tr>\n",
              "      <th>target</th>\n",
              "      <td>0</td>\n",
              "    </tr>\n",
              "  </tbody>\n",
              "</table>\n",
              "</div><br><label><b>dtype:</b> object</label>"
            ]
          },
          "metadata": {},
          "execution_count": 11
        }
      ]
    },
    {
      "cell_type": "code",
      "source": [
        "# Drop the above indexed rows\n",
        "\n",
        "## YOUR CODE HERE\n",
        "heart_df = heart_df.drop(heart_df.index[[247,252]])"
      ],
      "metadata": {
        "id": "Bpm1GBOZ0EcR"
      },
      "execution_count": null,
      "outputs": []
    },
    {
      "cell_type": "code",
      "source": [
        "# Recheck the unique values present in each categorical columns\n",
        "\n",
        "## YOUR CODE HERE\n",
        "\n",
        "categorical_cols = ['sex', 'cp', 'fbs', 'restecg', 'exang', 'ca', 'thal']\n",
        "\n",
        "for col in categorical_cols:\n",
        "    print('Unique values in categorical column:', col)\n",
        "    print(heart_df[col].unique())"
      ],
      "metadata": {
        "id": "XMTRXVU0Qfzm",
        "colab": {
          "base_uri": "https://localhost:8080/"
        },
        "outputId": "e16413eb-60f4-412c-d2cb-0d5dbf9e142e"
      },
      "execution_count": null,
      "outputs": [
        {
          "output_type": "stream",
          "name": "stdout",
          "text": [
            "Unique values in categorical column: sex\n",
            "[1 0]\n",
            "Unique values in categorical column: cp\n",
            "[1 4 3 2 0]\n",
            "Unique values in categorical column: fbs\n",
            "[1 0]\n",
            "Unique values in categorical column: restecg\n",
            "[2 0 1]\n",
            "Unique values in categorical column: exang\n",
            "[0 1]\n",
            "Unique values in categorical column: ca\n",
            "[0 3 2 1]\n",
            "Unique values in categorical column: thal\n",
            "['fixed' 'normal' 'reversible']\n"
          ]
        }
      ]
    },
    {
      "cell_type": "markdown",
      "source": [
        "### Convert the categorical values present in `thal` column to numerical labels\n",
        "\n",
        "Hint: Create a dictionary mapping"
      ],
      "metadata": {
        "id": "Wy7BIbsRQmpD"
      }
    },
    {
      "cell_type": "code",
      "source": [
        "## YOUR CODE HERE\n",
        "cat_to_num_dict = { 'fixed' : 0, 'normal' : 1 , 'reversible' : 2}\n",
        "\n",
        "heart_df = heart_df.replace({\"thal\": cat_to_num_dict})\n",
        "\n",
        "categorical_cols = ['sex', 'cp', 'fbs', 'restecg', 'exang', 'ca', 'thal']\n",
        "\n",
        "for col in categorical_cols:\n",
        "    print('Unique values in categorical column:', col)\n",
        "    print(heart_df[col].unique())"
      ],
      "metadata": {
        "id": "Y3mIpmFqQmN8",
        "colab": {
          "base_uri": "https://localhost:8080/"
        },
        "outputId": "6a240e59-972d-4cda-abb1-45d7aa1fc845"
      },
      "execution_count": null,
      "outputs": [
        {
          "output_type": "stream",
          "name": "stdout",
          "text": [
            "Unique values in categorical column: sex\n",
            "[1 0]\n",
            "Unique values in categorical column: cp\n",
            "[1 4 3 2 0]\n",
            "Unique values in categorical column: fbs\n",
            "[1 0]\n",
            "Unique values in categorical column: restecg\n",
            "[2 0 1]\n",
            "Unique values in categorical column: exang\n",
            "[0 1]\n",
            "Unique values in categorical column: ca\n",
            "[0 3 2 1]\n",
            "Unique values in categorical column: thal\n",
            "[0 1 2]\n"
          ]
        },
        {
          "output_type": "stream",
          "name": "stderr",
          "text": [
            "<ipython-input-14-a93611197867>:4: FutureWarning: Downcasting behavior in `replace` is deprecated and will be removed in a future version. To retain the old behavior, explicitly call `result.infer_objects(copy=False)`. To opt-in to the future behavior, set `pd.set_option('future.no_silent_downcasting', True)`\n",
            "  heart_df = heart_df.replace({\"thal\": cat_to_num_dict})\n"
          ]
        }
      ]
    },
    {
      "cell_type": "markdown",
      "source": [
        "### Split the dataset into training and testing sets"
      ],
      "metadata": {
        "id": "SFMQ9dDXQ_9d"
      }
    },
    {
      "cell_type": "code",
      "source": [
        "from sklearn.model_selection import train_test_split\n",
        "\n",
        "## YOUR CODE HERE (perform stratified sampling/splitting)\n",
        "cols = [x for x in heart_df.columns if x != 'target']\n",
        "X = heart_df[cols]\n",
        "y = heart_df['target']\n",
        "\n",
        "X_train, X_test , y_train , y_test =train_test_split(X,y, train_size = 0.8, random_state=42, stratify=y)"
      ],
      "metadata": {
        "id": "yGsFt7JmQ-_t"
      },
      "execution_count": null,
      "outputs": []
    },
    {
      "cell_type": "markdown",
      "source": [
        "### Scale the numerical features"
      ],
      "metadata": {
        "id": "wWH3OcS4Q3WG"
      }
    },
    {
      "cell_type": "code",
      "source": [
        "numerical_cols = ['age', 'trestbps', 'chol', 'thalach', 'oldpeak', 'slope']"
      ],
      "metadata": {
        "id": "4MSmw-vjQ7Zz"
      },
      "execution_count": null,
      "outputs": []
    },
    {
      "cell_type": "code",
      "source": [
        "from sklearn.preprocessing import StandardScaler\n",
        "\n",
        "## YOUR CODE HERE\n",
        "scaler = StandardScaler()\n",
        "\n",
        "X_train = scaler.fit_transform(X=X_train[numerical_cols], y=None)\n",
        "\n",
        "X_test = scaler.transform(X=X_test[numerical_cols])"
      ],
      "metadata": {
        "id": "eTNkGDfZQ7XH"
      },
      "execution_count": null,
      "outputs": []
    },
    {
      "cell_type": "code",
      "source": [
        "X_train"
      ],
      "metadata": {
        "colab": {
          "base_uri": "https://localhost:8080/"
        },
        "id": "bAwEdEKJ6_GD",
        "outputId": "fed544ee-8ac4-4488-8804-304544acb0d8"
      },
      "execution_count": null,
      "outputs": [
        {
          "output_type": "execute_result",
          "data": {
            "text/plain": [
              "array([[ 1.36263632, -0.96359526,  5.86807145,  0.49804813,  0.4293436 ,\n",
              "         0.6915294 ],\n",
              "       [-0.28239747, -0.67955834,  1.41437479,  1.01475512, -0.74445175,\n",
              "        -0.9355986 ],\n",
              "       [ 0.59495389,  0.45658935,  0.81806395,  0.92863729,  0.0939735 ,\n",
              "         0.6915294 ],\n",
              "       ...,\n",
              "       [ 0.59495389, -0.67955834, -1.32492817, -2.2577225 , -0.9121368 ,\n",
              "        -0.9355986 ],\n",
              "       [ 1.03362956, -0.11148449,  1.00441109, -1.13819068,  0.7647137 ,\n",
              "         0.6915294 ],\n",
              "       [ 0.59495389,  0.74062628,  0.61308209, -0.27701236,  1.43545389,\n",
              "         0.6915294 ]])"
            ]
          },
          "metadata": {},
          "execution_count": 30
        }
      ]
    },
    {
      "cell_type": "code",
      "source": [
        "X_test"
      ],
      "metadata": {
        "colab": {
          "base_uri": "https://localhost:8080/"
        },
        "id": "vZ58yHvn7nT7",
        "outputId": "8659e698-2a24-4577-f65d-00127a67b2c6"
      },
      "execution_count": null,
      "outputs": [
        {
          "output_type": "execute_result",
          "data": {
            "text/plain": [
              "array([[ 4.85284967e-01,  2.38804043e+00, -1.86347140e-03,\n",
              "        -2.33953444e-01, -9.12136802e-01,  6.91529397e-01],\n",
              "       [ 1.36263632e+00,  1.13827797e+00, -6.91347890e-01,\n",
              "         6.74589685e-02, -2.41396603e-01,  6.91529397e-01],\n",
              "       [-6.11404225e-01, -7.93173109e-01, -1.86533487e+00,\n",
              "        -9.65955017e-01, -2.41396603e-01, -9.35598596e-01],\n",
              "       [ 1.58197416e+00,  1.59273705e+00, -2.81384182e-01,\n",
              "        -7.50660436e-01, -8.28294277e-01,  6.91529397e-01],\n",
              "       [ 2.65947129e-01, -1.11484492e-01, -2.44114754e-01,\n",
              "         1.10087295e+00, -9.12136802e-01,  6.91529397e-01],\n",
              "       [-1.05007990e+00, -2.25099262e-01,  1.09758466e+00,\n",
              "         9.28637289e-01, -9.12136802e-01, -9.35598596e-01],\n",
              "       [-1.81776234e+00, -6.79558340e-01, -3.37288324e-01,\n",
              "         1.44534428e+00,  2.27387914e+00,  6.91529397e-01],\n",
              "       [ 8.14291725e-01, -4.52328801e-01, -7.47252032e-01,\n",
              "         6.27224877e-01, -9.12136802e-01, -9.35598596e-01],\n",
              "       [ 9.23960644e-01,  4.56589355e-01, -1.00813803e+00,\n",
              "         1.31616753e+00, -9.12136802e-01, -9.35598596e-01],\n",
              "       [ 3.75616048e-01, -1.13401742e+00, -3.55923038e-01,\n",
              "         7.13342709e-01,  1.18392632e+00,  6.91529397e-01],\n",
              "       [-1.37908666e+00, -6.79558340e-01, -1.69575898e-01,\n",
              "         1.96205127e+00, -2.41396603e-01,  2.31865739e+00],\n",
              "       [ 4.66092907e-02, -1.11484492e-01,  2.40387811e-01,\n",
              "         2.82753549e-01, -9.12136802e-01, -9.35598596e-01],\n",
              "       [ 8.14291725e-01, -1.11484492e-01,  2.59022525e-01,\n",
              "        -2.21466358e+00,  9.39734966e-02,  6.91529397e-01],\n",
              "       [-2.25643801e+00, -7.93173109e-01, -7.28617318e-01,\n",
              "         1.87593344e+00, -3.25239128e-01, -9.35598596e-01],\n",
              "       [ 3.75616048e-01, -1.11484492e-01, -9.70868600e-01,\n",
              "        -7.50660436e-01, -4.09081653e-01,  6.91529397e-01],\n",
              "       [ 9.23960644e-01, -1.11484492e-01,  9.13100987e-02,\n",
              "        -6.17177797e-02,  2.61658546e-01,  6.91529397e-01],\n",
              "       [ 1.47230524e+00, -6.79558340e-01, -7.09982604e-01,\n",
              "        -1.43960309e+00,  3.45501071e-01,  6.91529397e-01],\n",
              "       [ 3.75616048e-01, -2.25099262e-01, -6.16809034e-01,\n",
              "        -7.50660436e-01,  9.32398745e-01,  6.91529397e-01],\n",
              "       [-1.26941774e+00,  2.13027693e-03,  1.71253022e+00,\n",
              "        -5.35365856e-01,  1.60313894e+00,  6.91529397e-01],\n",
              "       [-1.26941774e+00, -5.65943570e-01, -6.72713176e-01,\n",
              "         7.13342709e-01, -7.44451752e-01,  6.91529397e-01],\n",
              "       [-5.01735305e-01,  6.83818893e-01, -9.14964458e-01,\n",
              "        -9.65955017e-01, -1.57554078e-01,  6.91529397e-01],\n",
              "       [ 1.58197416e+00,  4.56589355e-01,  9.13100987e-02,\n",
              "        -1.04776696e-01,  7.64713696e-01,  6.91529397e-01],\n",
              "       [-3.92066386e-01, -3.95521416e-01, -6.72713176e-01,\n",
              "        -1.00901393e+00,  2.61658546e-01, -9.35598596e-01],\n",
              "       [-3.92066386e-01, -1.81570603e+00, -5.05000750e-01,\n",
              "        -2.33953444e-01,  9.39734966e-02,  6.91529397e-01],\n",
              "       [-7.21073144e-01, -1.11484492e-01, -7.64023275e-02,\n",
              "         1.35922645e+00, -7.44451752e-01,  6.91529397e-01],\n",
              "       [-1.37908666e+00, -1.11484492e-01, -1.28765874e+00,\n",
              "         6.74589685e-02, -9.12136802e-01, -9.35598596e-01],\n",
              "       [-1.15974882e+00, -6.79558340e-01, -5.42270178e-01,\n",
              "         9.28637289e-01, -9.12136802e-01, -9.35598596e-01],\n",
              "       [-3.92066386e-01, -6.79558340e-01,  8.55333374e-01,\n",
              "         3.68871381e-01, -4.09081653e-01, -9.35598596e-01],\n",
              "       [ 7.04622806e-01, -1.11484492e-01,  1.50754836e+00,\n",
              "         8.85578373e-01, -9.12136802e-01, -9.35598596e-01],\n",
              "       [-1.05007990e+00, -1.24763219e+00,  2.77657239e-01,\n",
              "        -7.07601520e-01,  9.39734966e-02,  6.91529397e-01],\n",
              "       [ 1.25296740e+00,  1.02466320e+00, -4.30461894e-01,\n",
              "        -1.48266201e+00,  1.26776885e+00,  2.31865739e+00],\n",
              "       [-1.37908666e+00, -6.79558340e-01, -7.47252032e-01,\n",
              "         1.05781404e+00, -9.12136802e-01,  6.91529397e-01],\n",
              "       [-2.82397467e-01, -2.25099262e-01,  1.09944813e-01,\n",
              "         5.41107045e-01, -9.12136802e-01, -9.35598596e-01],\n",
              "       [ 2.65947129e-01, -2.25099262e-01, -3.74557752e-01,\n",
              "         6.74589685e-02, -5.76766702e-01,  6.91529397e-01],\n",
              "       [ 1.36263632e+00, -1.81570603e+00,  9.29872230e-01,\n",
              "        -1.00901393e+00, -1.57554078e-01,  6.91529397e-01],\n",
              "       [ 7.04622806e-01,  9.11048432e-01, -8.59060316e-01,\n",
              "         5.41107045e-01, -9.12136802e-01, -9.35598596e-01],\n",
              "       [ 1.56278210e-01,  3.86503244e+00,  7.24890375e-01,\n",
              "        -6.64542604e-01,  2.44156419e+00,  2.31865739e+00],\n",
              "       [ 1.14329848e+00,  1.02466320e+00, -4.49096608e-01,\n",
              "        -1.48266201e+00, -7.37115531e-02,  6.91529397e-01],\n",
              "       [-1.72728548e-01, -1.11484492e-01, -9.70868600e-01,\n",
              "         1.53576801e-01,  9.39734966e-02,  2.31865739e+00],\n",
              "       [ 4.85284967e-01, -1.24763219e+00, -1.88210612e-01,\n",
              "        -2.77012360e-01,  9.39734966e-02,  6.91529397e-01],\n",
              "       [ 5.94953887e-01,  1.02466320e+00, -1.69575898e-01,\n",
              "         9.71696205e-01, -1.57554078e-01, -9.35598596e-01],\n",
              "       [ 3.75616048e-01,  2.29359816e-01,  1.30256651e+00,\n",
              "         1.53576801e-01, -9.12136802e-01, -9.35598596e-01],\n",
              "       [ 9.23960644e-01, -1.36124696e+00,  3.70830809e-01,\n",
              "         8.85578373e-01,  5.97028646e-01,  6.91529397e-01],\n",
              "       [-2.25643801e+00, -7.93173109e-01, -1.25038931e+00,\n",
              "         1.10087295e+00, -9.12136802e-01, -9.35598596e-01],\n",
              "       [-1.37908666e+00,  9.11048432e-01, -9.50370415e-02,\n",
              "         1.27310862e+00, -2.41396603e-01, -9.35598596e-01],\n",
              "       [-7.21073144e-01, -1.11484492e-01,  4.82639093e-01,\n",
              "        -4.06189108e-01, -7.44451752e-01, -9.35598596e-01],\n",
              "       [ 1.56278210e-01, -6.79558340e-01, -1.04540746e+00,\n",
              "         5.84165961e-01,  6.80871171e-01,  6.91529397e-01],\n",
              "       [ 3.75616048e-01,  4.56589355e-01, -7.09982604e-01,\n",
              "         7.13342709e-01, -9.12136802e-01, -9.35598596e-01],\n",
              "       [-6.30596285e-02, -1.24763219e+00, -1.88210612e-01,\n",
              "        -9.65955017e-01,  1.43545389e+00,  6.91529397e-01],\n",
              "       [-6.30596285e-02,  2.13027693e-03,  7.24890375e-01,\n",
              "         4.54989213e-01, -9.12136802e-01, -9.35598596e-01],\n",
              "       [ 4.85284967e-01,  2.16081090e+00,  1.43300951e+00,\n",
              "        -3.63130192e-01,  1.93850904e+00,  2.31865739e+00],\n",
              "       [-1.15974882e+00, -1.36124696e+00, -2.01441259e+00,\n",
              "         1.14393187e+00, -4.09081653e-01,  6.91529397e-01],\n",
              "       [ 3.75616048e-01, -6.79558340e-01,  1.69389550e+00,\n",
              "         1.01475512e+00, -9.12136802e-01, -9.35598596e-01],\n",
              "       [-3.92066386e-01, -1.11484492e-01,  1.04168051e+00,\n",
              "        -2.77012360e-01,  9.39734966e-02,  6.91529397e-01],\n",
              "       [-6.30596285e-02,  1.02466320e+00, -3.18653610e-01,\n",
              "         7.13342709e-01,  4.29343596e-01, -9.35598596e-01],\n",
              "       [ 1.36263632e+00, -6.79558340e-01, -3.74557752e-01,\n",
              "        -8.36778268e-01,  1.26776885e+00,  6.91529397e-01],\n",
              "       [ 2.65947129e-01,  2.13027693e-03, -7.84521460e-01,\n",
              "         8.42519457e-01, -9.12136802e-01, -9.35598596e-01],\n",
              "       [ 3.75616048e-01, -1.53166911e+00, -1.69575898e-01,\n",
              "         2.39694633e-01, -4.09081653e-01,  6.91529397e-01],\n",
              "       [ 4.85284967e-01,  4.56589355e-01, -1.34356288e+00,\n",
              "         5.84165961e-01, -9.12136802e-01, -9.35598596e-01],\n",
              "       [ 4.85284967e-01,  1.02466320e+00, -6.91347890e-01,\n",
              "         3.68871381e-01,  4.29343596e-01, -9.35598596e-01],\n",
              "       [-2.82397467e-01, -7.93173109e-01, -1.17585045e+00,\n",
              "         1.78981561e+00, -9.12136802e-01,  6.91529397e-01]])"
            ]
          },
          "metadata": {},
          "execution_count": 40
        }
      ]
    },
    {
      "cell_type": "markdown",
      "metadata": {
        "id": "zQlt1xCbaxsX"
      },
      "source": [
        "## Building the model [3 Marks]"
      ]
    },
    {
      "cell_type": "markdown",
      "source": [
        "* Use tf.keras.layers.Input() for input layer\n",
        "* Add dense layers\n",
        "* Add dropout layers\n",
        "* Add a classification layer at the end\n"
      ],
      "metadata": {
        "id": "zBhmQ_q5oLIq"
      }
    },
    {
      "cell_type": "code",
      "source": [
        "X_train.shape"
      ],
      "metadata": {
        "colab": {
          "base_uri": "https://localhost:8080/"
        },
        "id": "CXANB04xDrz0",
        "outputId": "c76eb773-967e-42b3-8d69-b93caedd23b5"
      },
      "execution_count": null,
      "outputs": [
        {
          "output_type": "execute_result",
          "data": {
            "text/plain": [
              "(240, 6)"
            ]
          },
          "metadata": {},
          "execution_count": 41
        }
      ]
    },
    {
      "cell_type": "code",
      "source": [
        "# Create model\n",
        "\n",
        "\n",
        "\n",
        "heart_classif_model = keras.Sequential(name=\"heart_disease_classifier_model\")\n",
        "heart_classif_model.add(layers.Input(shape=(X_train.shape[1], )))   #specifying the input here\n",
        "heart_classif_model.add(layers.Dense(32, activation=tf.nn.relu))\n",
        "heart_classif_model.add(layers.Dense(2, activation=tf.nn.sigmoid))\n",
        "\n",
        "## YOUR CODE HERE\n",
        "\n",
        "heart_classif_model.summary()"
      ],
      "metadata": {
        "id": "7DWkHm9-ymp6",
        "colab": {
          "base_uri": "https://localhost:8080/",
          "height": 200
        },
        "outputId": "1c2c00e0-eb3c-4859-9f16-6f53f48e9b24"
      },
      "execution_count": null,
      "outputs": [
        {
          "output_type": "display_data",
          "data": {
            "text/plain": [
              "\u001b[1mModel: \"heart_disease_classifier_model\"\u001b[0m\n"
            ],
            "text/html": [
              "<pre style=\"white-space:pre;overflow-x:auto;line-height:normal;font-family:Menlo,'DejaVu Sans Mono',consolas,'Courier New',monospace\"><span style=\"font-weight: bold\">Model: \"heart_disease_classifier_model\"</span>\n",
              "</pre>\n"
            ]
          },
          "metadata": {}
        },
        {
          "output_type": "display_data",
          "data": {
            "text/plain": [
              "┏━━━━━━━━━━━━━━━━━━━━━━━━━━━━━━━━━━━━━━┳━━━━━━━━━━━━━━━━━━━━━━━━━━━━━┳━━━━━━━━━━━━━━━━━┓\n",
              "┃\u001b[1m \u001b[0m\u001b[1mLayer (type)                        \u001b[0m\u001b[1m \u001b[0m┃\u001b[1m \u001b[0m\u001b[1mOutput Shape               \u001b[0m\u001b[1m \u001b[0m┃\u001b[1m \u001b[0m\u001b[1m        Param #\u001b[0m\u001b[1m \u001b[0m┃\n",
              "┡━━━━━━━━━━━━━━━━━━━━━━━━━━━━━━━━━━━━━━╇━━━━━━━━━━━━━━━━━━━━━━━━━━━━━╇━━━━━━━━━━━━━━━━━┩\n",
              "│ dense_2 (\u001b[38;5;33mDense\u001b[0m)                      │ (\u001b[38;5;45mNone\u001b[0m, \u001b[38;5;34m32\u001b[0m)                  │             \u001b[38;5;34m224\u001b[0m │\n",
              "├──────────────────────────────────────┼─────────────────────────────┼─────────────────┤\n",
              "│ dense_3 (\u001b[38;5;33mDense\u001b[0m)                      │ (\u001b[38;5;45mNone\u001b[0m, \u001b[38;5;34m2\u001b[0m)                   │              \u001b[38;5;34m66\u001b[0m │\n",
              "└──────────────────────────────────────┴─────────────────────────────┴─────────────────┘\n"
            ],
            "text/html": [
              "<pre style=\"white-space:pre;overflow-x:auto;line-height:normal;font-family:Menlo,'DejaVu Sans Mono',consolas,'Courier New',monospace\">┏━━━━━━━━━━━━━━━━━━━━━━━━━━━━━━━━━━━━━━┳━━━━━━━━━━━━━━━━━━━━━━━━━━━━━┳━━━━━━━━━━━━━━━━━┓\n",
              "┃<span style=\"font-weight: bold\"> Layer (type)                         </span>┃<span style=\"font-weight: bold\"> Output Shape                </span>┃<span style=\"font-weight: bold\">         Param # </span>┃\n",
              "┡━━━━━━━━━━━━━━━━━━━━━━━━━━━━━━━━━━━━━━╇━━━━━━━━━━━━━━━━━━━━━━━━━━━━━╇━━━━━━━━━━━━━━━━━┩\n",
              "│ dense_2 (<span style=\"color: #0087ff; text-decoration-color: #0087ff\">Dense</span>)                      │ (<span style=\"color: #00d7ff; text-decoration-color: #00d7ff\">None</span>, <span style=\"color: #00af00; text-decoration-color: #00af00\">32</span>)                  │             <span style=\"color: #00af00; text-decoration-color: #00af00\">224</span> │\n",
              "├──────────────────────────────────────┼─────────────────────────────┼─────────────────┤\n",
              "│ dense_3 (<span style=\"color: #0087ff; text-decoration-color: #0087ff\">Dense</span>)                      │ (<span style=\"color: #00d7ff; text-decoration-color: #00d7ff\">None</span>, <span style=\"color: #00af00; text-decoration-color: #00af00\">2</span>)                   │              <span style=\"color: #00af00; text-decoration-color: #00af00\">66</span> │\n",
              "└──────────────────────────────────────┴─────────────────────────────┴─────────────────┘\n",
              "</pre>\n"
            ]
          },
          "metadata": {}
        },
        {
          "output_type": "display_data",
          "data": {
            "text/plain": [
              "\u001b[1m Total params: \u001b[0m\u001b[38;5;34m290\u001b[0m (1.13 KB)\n"
            ],
            "text/html": [
              "<pre style=\"white-space:pre;overflow-x:auto;line-height:normal;font-family:Menlo,'DejaVu Sans Mono',consolas,'Courier New',monospace\"><span style=\"font-weight: bold\"> Total params: </span><span style=\"color: #00af00; text-decoration-color: #00af00\">290</span> (1.13 KB)\n",
              "</pre>\n"
            ]
          },
          "metadata": {}
        },
        {
          "output_type": "display_data",
          "data": {
            "text/plain": [
              "\u001b[1m Trainable params: \u001b[0m\u001b[38;5;34m290\u001b[0m (1.13 KB)\n"
            ],
            "text/html": [
              "<pre style=\"white-space:pre;overflow-x:auto;line-height:normal;font-family:Menlo,'DejaVu Sans Mono',consolas,'Courier New',monospace\"><span style=\"font-weight: bold\"> Trainable params: </span><span style=\"color: #00af00; text-decoration-color: #00af00\">290</span> (1.13 KB)\n",
              "</pre>\n"
            ]
          },
          "metadata": {}
        },
        {
          "output_type": "display_data",
          "data": {
            "text/plain": [
              "\u001b[1m Non-trainable params: \u001b[0m\u001b[38;5;34m0\u001b[0m (0.00 B)\n"
            ],
            "text/html": [
              "<pre style=\"white-space:pre;overflow-x:auto;line-height:normal;font-family:Menlo,'DejaVu Sans Mono',consolas,'Courier New',monospace\"><span style=\"font-weight: bold\"> Non-trainable params: </span><span style=\"color: #00af00; text-decoration-color: #00af00\">0</span> (0.00 B)\n",
              "</pre>\n"
            ]
          },
          "metadata": {}
        }
      ]
    },
    {
      "cell_type": "code",
      "source": [
        "# Compile model with 'adam' optimizer, appropriate loss and metric\n",
        "\n",
        "## YOUR CODE HERE\n",
        "\n",
        "heart_classif_model.compile(optimizer =keras.optimizers.Adam(),\n",
        "              loss = keras.losses.SparseCategoricalCrossentropy(),\n",
        "              metrics = [\"accuracy\"])"
      ],
      "metadata": {
        "id": "aZvbr8v_R3Z-"
      },
      "execution_count": null,
      "outputs": []
    },
    {
      "cell_type": "code",
      "source": [
        "# Perform training\n",
        "epochs=50\n",
        "batch_size=32\n",
        "validation_split=0.2\n",
        "\n",
        "heart_classif_model.fit(x=X_train, y=y_train, epochs=epochs,batch_size=batch_size, validation_split=0.2)"
      ],
      "metadata": {
        "id": "ZJGxCst7R3Wd",
        "colab": {
          "base_uri": "https://localhost:8080/"
        },
        "outputId": "83a390c1-1cc9-42a1-c684-a1574033c253"
      },
      "execution_count": null,
      "outputs": [
        {
          "output_type": "stream",
          "name": "stdout",
          "text": [
            "Epoch 1/50\n",
            "\u001b[1m6/6\u001b[0m \u001b[32m━━━━━━━━━━━━━━━━━━━━\u001b[0m\u001b[37m\u001b[0m \u001b[1m4s\u001b[0m 65ms/step - accuracy: 0.7081 - loss: 0.7690 - val_accuracy: 0.7083 - val_loss: 0.6886\n",
            "Epoch 2/50\n",
            "\u001b[1m6/6\u001b[0m \u001b[32m━━━━━━━━━━━━━━━━━━━━\u001b[0m\u001b[37m\u001b[0m \u001b[1m0s\u001b[0m 11ms/step - accuracy: 0.7380 - loss: 0.6982 - val_accuracy: 0.7083 - val_loss: 0.6931\n",
            "Epoch 3/50\n",
            "\u001b[1m6/6\u001b[0m \u001b[32m━━━━━━━━━━━━━━━━━━━━\u001b[0m\u001b[37m\u001b[0m \u001b[1m0s\u001b[0m 8ms/step - accuracy: 0.7269 - loss: 0.6932 - val_accuracy: 0.7083 - val_loss: 0.6931\n",
            "Epoch 4/50\n",
            "\u001b[1m6/6\u001b[0m \u001b[32m━━━━━━━━━━━━━━━━━━━━\u001b[0m\u001b[37m\u001b[0m \u001b[1m0s\u001b[0m 11ms/step - accuracy: 0.7363 - loss: 0.6931 - val_accuracy: 0.7083 - val_loss: 0.6931\n",
            "Epoch 5/50\n",
            "\u001b[1m6/6\u001b[0m \u001b[32m━━━━━━━━━━━━━━━━━━━━\u001b[0m\u001b[37m\u001b[0m \u001b[1m0s\u001b[0m 7ms/step - accuracy: 0.7320 - loss: 0.6931 - val_accuracy: 0.7083 - val_loss: 0.6931\n",
            "Epoch 6/50\n",
            "\u001b[1m6/6\u001b[0m \u001b[32m━━━━━━━━━━━━━━━━━━━━\u001b[0m\u001b[37m\u001b[0m \u001b[1m0s\u001b[0m 11ms/step - accuracy: 0.7649 - loss: 0.6931 - val_accuracy: 0.7083 - val_loss: 0.6931\n",
            "Epoch 7/50\n",
            "\u001b[1m6/6\u001b[0m \u001b[32m━━━━━━━━━━━━━━━━━━━━\u001b[0m\u001b[37m\u001b[0m \u001b[1m0s\u001b[0m 8ms/step - accuracy: 0.7342 - loss: 0.6931 - val_accuracy: 0.7083 - val_loss: 0.6931\n",
            "Epoch 8/50\n",
            "\u001b[1m6/6\u001b[0m \u001b[32m━━━━━━━━━━━━━━━━━━━━\u001b[0m\u001b[37m\u001b[0m \u001b[1m0s\u001b[0m 8ms/step - accuracy: 0.7310 - loss: 0.6931 - val_accuracy: 0.7083 - val_loss: 0.6931\n",
            "Epoch 9/50\n",
            "\u001b[1m6/6\u001b[0m \u001b[32m━━━━━━━━━━━━━━━━━━━━\u001b[0m\u001b[37m\u001b[0m \u001b[1m0s\u001b[0m 11ms/step - accuracy: 0.7246 - loss: 0.6931 - val_accuracy: 0.7083 - val_loss: 0.6931\n",
            "Epoch 10/50\n",
            "\u001b[1m6/6\u001b[0m \u001b[32m━━━━━━━━━━━━━━━━━━━━\u001b[0m\u001b[37m\u001b[0m \u001b[1m0s\u001b[0m 7ms/step - accuracy: 0.7091 - loss: 0.6931 - val_accuracy: 0.7083 - val_loss: 0.6931\n",
            "Epoch 11/50\n",
            "\u001b[1m6/6\u001b[0m \u001b[32m━━━━━━━━━━━━━━━━━━━━\u001b[0m\u001b[37m\u001b[0m \u001b[1m0s\u001b[0m 8ms/step - accuracy: 0.7414 - loss: 0.6931 - val_accuracy: 0.7083 - val_loss: 0.6931\n",
            "Epoch 12/50\n",
            "\u001b[1m6/6\u001b[0m \u001b[32m━━━━━━━━━━━━━━━━━━━━\u001b[0m\u001b[37m\u001b[0m \u001b[1m0s\u001b[0m 11ms/step - accuracy: 0.7429 - loss: 0.6931 - val_accuracy: 0.7083 - val_loss: 0.6931\n",
            "Epoch 13/50\n",
            "\u001b[1m6/6\u001b[0m \u001b[32m━━━━━━━━━━━━━━━━━━━━\u001b[0m\u001b[37m\u001b[0m \u001b[1m0s\u001b[0m 7ms/step - accuracy: 0.7251 - loss: 0.6931 - val_accuracy: 0.7083 - val_loss: 0.6931\n",
            "Epoch 14/50\n",
            "\u001b[1m6/6\u001b[0m \u001b[32m━━━━━━━━━━━━━━━━━━━━\u001b[0m\u001b[37m\u001b[0m \u001b[1m0s\u001b[0m 11ms/step - accuracy: 0.7124 - loss: 0.6931 - val_accuracy: 0.7083 - val_loss: 0.6931\n",
            "Epoch 15/50\n",
            "\u001b[1m6/6\u001b[0m \u001b[32m━━━━━━━━━━━━━━━━━━━━\u001b[0m\u001b[37m\u001b[0m \u001b[1m0s\u001b[0m 10ms/step - accuracy: 0.7505 - loss: 0.6931 - val_accuracy: 0.7083 - val_loss: 0.6931\n",
            "Epoch 16/50\n",
            "\u001b[1m6/6\u001b[0m \u001b[32m━━━━━━━━━━━━━━━━━━━━\u001b[0m\u001b[37m\u001b[0m \u001b[1m0s\u001b[0m 8ms/step - accuracy: 0.7640 - loss: 0.6931 - val_accuracy: 0.7083 - val_loss: 0.6931\n",
            "Epoch 17/50\n",
            "\u001b[1m6/6\u001b[0m \u001b[32m━━━━━━━━━━━━━━━━━━━━\u001b[0m\u001b[37m\u001b[0m \u001b[1m0s\u001b[0m 8ms/step - accuracy: 0.7305 - loss: 0.6931 - val_accuracy: 0.7083 - val_loss: 0.6931\n",
            "Epoch 18/50\n",
            "\u001b[1m6/6\u001b[0m \u001b[32m━━━━━━━━━━━━━━━━━━━━\u001b[0m\u001b[37m\u001b[0m \u001b[1m0s\u001b[0m 11ms/step - accuracy: 0.7088 - loss: 0.6931 - val_accuracy: 0.7083 - val_loss: 0.6931\n",
            "Epoch 19/50\n",
            "\u001b[1m6/6\u001b[0m \u001b[32m━━━━━━━━━━━━━━━━━━━━\u001b[0m\u001b[37m\u001b[0m \u001b[1m0s\u001b[0m 8ms/step - accuracy: 0.7581 - loss: 0.6931 - val_accuracy: 0.7083 - val_loss: 0.6931\n",
            "Epoch 20/50\n",
            "\u001b[1m6/6\u001b[0m \u001b[32m━━━━━━━━━━━━━━━━━━━━\u001b[0m\u001b[37m\u001b[0m \u001b[1m0s\u001b[0m 11ms/step - accuracy: 0.6926 - loss: 0.6931 - val_accuracy: 0.7083 - val_loss: 0.6931\n",
            "Epoch 21/50\n",
            "\u001b[1m6/6\u001b[0m \u001b[32m━━━━━━━━━━━━━━━━━━━━\u001b[0m\u001b[37m\u001b[0m \u001b[1m0s\u001b[0m 12ms/step - accuracy: 0.7265 - loss: 0.6931 - val_accuracy: 0.7083 - val_loss: 0.6931\n",
            "Epoch 22/50\n",
            "\u001b[1m6/6\u001b[0m \u001b[32m━━━━━━━━━━━━━━━━━━━━\u001b[0m\u001b[37m\u001b[0m \u001b[1m0s\u001b[0m 11ms/step - accuracy: 0.7440 - loss: 0.6931 - val_accuracy: 0.7083 - val_loss: 0.6931\n",
            "Epoch 23/50\n",
            "\u001b[1m6/6\u001b[0m \u001b[32m━━━━━━━━━━━━━━━━━━━━\u001b[0m\u001b[37m\u001b[0m \u001b[1m0s\u001b[0m 7ms/step - accuracy: 0.7465 - loss: 0.6931 - val_accuracy: 0.7083 - val_loss: 0.6931\n",
            "Epoch 24/50\n",
            "\u001b[1m6/6\u001b[0m \u001b[32m━━━━━━━━━━━━━━━━━━━━\u001b[0m\u001b[37m\u001b[0m \u001b[1m0s\u001b[0m 13ms/step - accuracy: 0.7268 - loss: 0.6931 - val_accuracy: 0.7083 - val_loss: 0.6931\n",
            "Epoch 25/50\n",
            "\u001b[1m6/6\u001b[0m \u001b[32m━━━━━━━━━━━━━━━━━━━━\u001b[0m\u001b[37m\u001b[0m \u001b[1m0s\u001b[0m 9ms/step - accuracy: 0.7635 - loss: 0.6931 - val_accuracy: 0.7083 - val_loss: 0.6931\n",
            "Epoch 26/50\n",
            "\u001b[1m6/6\u001b[0m \u001b[32m━━━━━━━━━━━━━━━━━━━━\u001b[0m\u001b[37m\u001b[0m \u001b[1m0s\u001b[0m 7ms/step - accuracy: 0.7146 - loss: 0.6931 - val_accuracy: 0.7083 - val_loss: 0.6931\n",
            "Epoch 27/50\n",
            "\u001b[1m6/6\u001b[0m \u001b[32m━━━━━━━━━━━━━━━━━━━━\u001b[0m\u001b[37m\u001b[0m \u001b[1m0s\u001b[0m 11ms/step - accuracy: 0.7308 - loss: 0.6931 - val_accuracy: 0.7083 - val_loss: 0.6931\n",
            "Epoch 28/50\n",
            "\u001b[1m6/6\u001b[0m \u001b[32m━━━━━━━━━━━━━━━━━━━━\u001b[0m\u001b[37m\u001b[0m \u001b[1m0s\u001b[0m 11ms/step - accuracy: 0.7461 - loss: 0.6931 - val_accuracy: 0.7083 - val_loss: 0.6931\n",
            "Epoch 29/50\n",
            "\u001b[1m6/6\u001b[0m \u001b[32m━━━━━━━━━━━━━━━━━━━━\u001b[0m\u001b[37m\u001b[0m \u001b[1m0s\u001b[0m 13ms/step - accuracy: 0.7278 - loss: 0.6931 - val_accuracy: 0.7083 - val_loss: 0.6931\n",
            "Epoch 30/50\n",
            "\u001b[1m6/6\u001b[0m \u001b[32m━━━━━━━━━━━━━━━━━━━━\u001b[0m\u001b[37m\u001b[0m \u001b[1m0s\u001b[0m 11ms/step - accuracy: 0.7292 - loss: 0.6931 - val_accuracy: 0.7083 - val_loss: 0.6931\n",
            "Epoch 31/50\n",
            "\u001b[1m6/6\u001b[0m \u001b[32m━━━━━━━━━━━━━━━━━━━━\u001b[0m\u001b[37m\u001b[0m \u001b[1m0s\u001b[0m 11ms/step - accuracy: 0.7432 - loss: 0.6931 - val_accuracy: 0.7083 - val_loss: 0.6931\n",
            "Epoch 32/50\n",
            "\u001b[1m6/6\u001b[0m \u001b[32m━━━━━━━━━━━━━━━━━━━━\u001b[0m\u001b[37m\u001b[0m \u001b[1m0s\u001b[0m 10ms/step - accuracy: 0.7033 - loss: 0.6931 - val_accuracy: 0.7083 - val_loss: 0.6931\n",
            "Epoch 33/50\n",
            "\u001b[1m6/6\u001b[0m \u001b[32m━━━━━━━━━━━━━━━━━━━━\u001b[0m\u001b[37m\u001b[0m \u001b[1m0s\u001b[0m 8ms/step - accuracy: 0.7106 - loss: 0.6931 - val_accuracy: 0.7083 - val_loss: 0.6931\n",
            "Epoch 34/50\n",
            "\u001b[1m6/6\u001b[0m \u001b[32m━━━━━━━━━━━━━━━━━━━━\u001b[0m\u001b[37m\u001b[0m \u001b[1m0s\u001b[0m 8ms/step - accuracy: 0.7414 - loss: 0.6931 - val_accuracy: 0.7083 - val_loss: 0.6931\n",
            "Epoch 35/50\n",
            "\u001b[1m6/6\u001b[0m \u001b[32m━━━━━━━━━━━━━━━━━━━━\u001b[0m\u001b[37m\u001b[0m \u001b[1m0s\u001b[0m 11ms/step - accuracy: 0.7212 - loss: 0.6931 - val_accuracy: 0.7083 - val_loss: 0.6931\n",
            "Epoch 36/50\n",
            "\u001b[1m6/6\u001b[0m \u001b[32m━━━━━━━━━━━━━━━━━━━━\u001b[0m\u001b[37m\u001b[0m \u001b[1m0s\u001b[0m 8ms/step - accuracy: 0.7676 - loss: 0.6931 - val_accuracy: 0.7083 - val_loss: 0.6931\n",
            "Epoch 37/50\n",
            "\u001b[1m6/6\u001b[0m \u001b[32m━━━━━━━━━━━━━━━━━━━━\u001b[0m\u001b[37m\u001b[0m \u001b[1m0s\u001b[0m 11ms/step - accuracy: 0.7698 - loss: 0.6931 - val_accuracy: 0.7083 - val_loss: 0.6931\n",
            "Epoch 38/50\n",
            "\u001b[1m6/6\u001b[0m \u001b[32m━━━━━━━━━━━━━━━━━━━━\u001b[0m\u001b[37m\u001b[0m \u001b[1m0s\u001b[0m 12ms/step - accuracy: 0.7354 - loss: 0.6931 - val_accuracy: 0.7083 - val_loss: 0.6931\n",
            "Epoch 39/50\n",
            "\u001b[1m6/6\u001b[0m \u001b[32m━━━━━━━━━━━━━━━━━━━━\u001b[0m\u001b[37m\u001b[0m \u001b[1m0s\u001b[0m 12ms/step - accuracy: 0.7358 - loss: 0.6931 - val_accuracy: 0.7083 - val_loss: 0.6931\n",
            "Epoch 40/50\n",
            "\u001b[1m6/6\u001b[0m \u001b[32m━━━━━━━━━━━━━━━━━━━━\u001b[0m\u001b[37m\u001b[0m \u001b[1m0s\u001b[0m 8ms/step - accuracy: 0.7269 - loss: 0.6931 - val_accuracy: 0.7083 - val_loss: 0.6931\n",
            "Epoch 41/50\n",
            "\u001b[1m6/6\u001b[0m \u001b[32m━━━━━━━━━━━━━━━━━━━━\u001b[0m\u001b[37m\u001b[0m \u001b[1m0s\u001b[0m 11ms/step - accuracy: 0.7304 - loss: 0.6931 - val_accuracy: 0.7083 - val_loss: 0.6931\n",
            "Epoch 42/50\n",
            "\u001b[1m6/6\u001b[0m \u001b[32m━━━━━━━━━━━━━━━━━━━━\u001b[0m\u001b[37m\u001b[0m \u001b[1m0s\u001b[0m 9ms/step - accuracy: 0.7531 - loss: 0.6931 - val_accuracy: 0.7083 - val_loss: 0.6931\n",
            "Epoch 43/50\n",
            "\u001b[1m6/6\u001b[0m \u001b[32m━━━━━━━━━━━━━━━━━━━━\u001b[0m\u001b[37m\u001b[0m \u001b[1m0s\u001b[0m 11ms/step - accuracy: 0.7711 - loss: 0.6931 - val_accuracy: 0.7083 - val_loss: 0.6931\n",
            "Epoch 44/50\n",
            "\u001b[1m6/6\u001b[0m \u001b[32m━━━━━━━━━━━━━━━━━━━━\u001b[0m\u001b[37m\u001b[0m \u001b[1m0s\u001b[0m 11ms/step - accuracy: 0.6803 - loss: 0.6931 - val_accuracy: 0.7083 - val_loss: 0.6931\n",
            "Epoch 45/50\n",
            "\u001b[1m6/6\u001b[0m \u001b[32m━━━━━━━━━━━━━━━━━━━━\u001b[0m\u001b[37m\u001b[0m \u001b[1m0s\u001b[0m 11ms/step - accuracy: 0.7228 - loss: 0.6931 - val_accuracy: 0.7083 - val_loss: 0.6931\n",
            "Epoch 46/50\n",
            "\u001b[1m6/6\u001b[0m \u001b[32m━━━━━━━━━━━━━━━━━━━━\u001b[0m\u001b[37m\u001b[0m \u001b[1m0s\u001b[0m 8ms/step - accuracy: 0.7278 - loss: 0.6931 - val_accuracy: 0.7083 - val_loss: 0.6931\n",
            "Epoch 47/50\n",
            "\u001b[1m6/6\u001b[0m \u001b[32m━━━━━━━━━━━━━━━━━━━━\u001b[0m\u001b[37m\u001b[0m \u001b[1m0s\u001b[0m 8ms/step - accuracy: 0.7172 - loss: 0.6931 - val_accuracy: 0.7083 - val_loss: 0.6931\n",
            "Epoch 48/50\n",
            "\u001b[1m6/6\u001b[0m \u001b[32m━━━━━━━━━━━━━━━━━━━━\u001b[0m\u001b[37m\u001b[0m \u001b[1m0s\u001b[0m 8ms/step - accuracy: 0.7619 - loss: 0.6931 - val_accuracy: 0.7083 - val_loss: 0.6931\n",
            "Epoch 49/50\n",
            "\u001b[1m6/6\u001b[0m \u001b[32m━━━━━━━━━━━━━━━━━━━━\u001b[0m\u001b[37m\u001b[0m \u001b[1m0s\u001b[0m 11ms/step - accuracy: 0.6959 - loss: 0.6931 - val_accuracy: 0.7083 - val_loss: 0.6931\n",
            "Epoch 50/50\n",
            "\u001b[1m6/6\u001b[0m \u001b[32m━━━━━━━━━━━━━━━━━━━━\u001b[0m\u001b[37m\u001b[0m \u001b[1m0s\u001b[0m 13ms/step - accuracy: 0.7074 - loss: 0.6931 - val_accuracy: 0.7083 - val_loss: 0.6931\n"
          ]
        },
        {
          "output_type": "execute_result",
          "data": {
            "text/plain": [
              "<keras.src.callbacks.history.History at 0x7b12736930d0>"
            ]
          },
          "metadata": {},
          "execution_count": 21
        }
      ]
    },
    {
      "cell_type": "code",
      "source": [
        "# Performance on test set\n",
        "\n",
        "heart_classif_model.evaluate(x=X_test,y=y_test)"
      ],
      "metadata": {
        "id": "NTjNxzotR9lh",
        "colab": {
          "base_uri": "https://localhost:8080/"
        },
        "outputId": "2bbab1b7-2fb4-47e5-f907-c02e9222f290"
      },
      "execution_count": null,
      "outputs": [
        {
          "output_type": "stream",
          "name": "stdout",
          "text": [
            "\u001b[1m2/2\u001b[0m \u001b[32m━━━━━━━━━━━━━━━━━━━━\u001b[0m\u001b[37m\u001b[0m \u001b[1m0s\u001b[0m 7ms/step - accuracy: 0.7413 - loss: 0.6931 \n"
          ]
        },
        {
          "output_type": "execute_result",
          "data": {
            "text/plain": [
              "[0.6931471824645996, 0.7213114500045776]"
            ]
          },
          "metadata": {},
          "execution_count": 22
        }
      ]
    },
    {
      "cell_type": "markdown",
      "metadata": {
        "id": "ZDrBzU1jaxsY"
      },
      "source": [
        "## Inference on new data [1 Mark]\n",
        "\n",
        "To get a prediction for a new sample, you can simply call `model.predict()`."
      ]
    },
    {
      "cell_type": "code",
      "source": [
        "# Inference on new data\n",
        "\n",
        "sample = {\n",
        "    \"age\": 60,\n",
        "    \"sex\": 1,\n",
        "    \"cp\": 1,\n",
        "    \"trestbps\": 145,\n",
        "    \"chol\": 233,\n",
        "    \"fbs\": 1,\n",
        "    \"restecg\": 2,\n",
        "    \"thalach\": 150,\n",
        "    \"exang\": 0,\n",
        "    \"oldpeak\": 2.3,\n",
        "    \"slope\": 3,\n",
        "    \"ca\": 0,\n",
        "    \"thal\": \"fixed\",\n",
        "}\n"
      ],
      "metadata": {
        "id": "cpLUmchTR9i4"
      },
      "execution_count": null,
      "outputs": []
    },
    {
      "cell_type": "code",
      "source": [
        "## YOUR CODE HERE\n",
        "sample_df = pd.DataFrame([sample])\n",
        "\n",
        "\n",
        "sample_df = sample_df.replace(cat_to_num_dict)\n",
        "sample_df.head()\n",
        "\n",
        "heart_classif_model.predict(x=sample_df)\n"
      ],
      "metadata": {
        "id": "XA5zIR_LSIxO",
        "colab": {
          "base_uri": "https://localhost:8080/"
        },
        "outputId": "7ca8e6c0-e075-4b81-bdc5-e8890c7d4c56"
      },
      "execution_count": null,
      "outputs": [
        {
          "output_type": "stream",
          "name": "stdout",
          "text": [
            "\u001b[1m1/1\u001b[0m \u001b[32m━━━━━━━━━━━━━━━━━━━━\u001b[0m\u001b[37m\u001b[0m \u001b[1m0s\u001b[0m 44ms/step\n"
          ]
        },
        {
          "output_type": "stream",
          "name": "stderr",
          "text": [
            "<ipython-input-24-1b34204a470a>:5: FutureWarning: Downcasting behavior in `replace` is deprecated and will be removed in a future version. To retain the old behavior, explicitly call `result.infer_objects(copy=False)`. To opt-in to the future behavior, set `pd.set_option('future.no_silent_downcasting', True)`\n",
            "  sample_df = sample_df.replace(cat_to_num_dict)\n"
          ]
        },
        {
          "output_type": "execute_result",
          "data": {
            "text/plain": [
              "array([[1., 1.]], dtype=float32)"
            ]
          },
          "metadata": {},
          "execution_count": 24
        }
      ]
    },
    {
      "cell_type": "code",
      "source": [
        "test = heart_classif_model.predict(x=sample_df)\n",
        "type(test)"
      ],
      "metadata": {
        "colab": {
          "base_uri": "https://localhost:8080/"
        },
        "id": "afz2l7tag4hp",
        "outputId": "a8b1f1f2-a07c-47bb-83ed-2a5a58f202a2"
      },
      "execution_count": null,
      "outputs": [
        {
          "output_type": "stream",
          "name": "stdout",
          "text": [
            "\u001b[1m1/1\u001b[0m \u001b[32m━━━━━━━━━━━━━━━━━━━━\u001b[0m\u001b[37m\u001b[0m \u001b[1m0s\u001b[0m 18ms/step\n"
          ]
        },
        {
          "output_type": "execute_result",
          "data": {
            "text/plain": [
              "numpy.ndarray"
            ]
          },
          "metadata": {},
          "execution_count": 25
        }
      ]
    },
    {
      "cell_type": "code",
      "source": [
        "test[0][0]"
      ],
      "metadata": {
        "colab": {
          "base_uri": "https://localhost:8080/"
        },
        "id": "ohZbXb9AhH92",
        "outputId": "80ebeeee-db52-4ccb-bea7-8cbf852551ff"
      },
      "execution_count": null,
      "outputs": [
        {
          "output_type": "execute_result",
          "data": {
            "text/plain": [
              "1.0"
            ]
          },
          "metadata": {},
          "execution_count": 26
        }
      ]
    },
    {
      "cell_type": "code",
      "source": [
        "tf.sigmoid(test)"
      ],
      "metadata": {
        "colab": {
          "base_uri": "https://localhost:8080/"
        },
        "id": "FayDPoHr6GAe",
        "outputId": "d4295362-60c7-4915-b2cc-10e36d6f6026"
      },
      "execution_count": null,
      "outputs": [
        {
          "output_type": "execute_result",
          "data": {
            "text/plain": [
              "<tf.Tensor: shape=(1, 2), dtype=float32, numpy=array([[0.7310586, 0.7310586]], dtype=float32)>"
            ]
          },
          "metadata": {},
          "execution_count": 27
        }
      ]
    },
    {
      "cell_type": "markdown",
      "source": [
        "## Gradio Implementation [3 Marks]\n",
        "\n",
        "Create a Gradio interface for this `Heart Disease Prediction` application. For the feature values given by the user as input, perform predcition using the trained model, and return the result back to user.\n",
        "\n",
        "Make use of gradio elements such as Textbox, Radio buttons, etc."
      ],
      "metadata": {
        "id": "eoWXvFmPSiaT"
      }
    },
    {
      "cell_type": "code",
      "source": [
        "%%capture\n",
        "!pip -q install gradio"
      ],
      "metadata": {
        "id": "lIVVUYjp7VT4"
      },
      "execution_count": null,
      "outputs": []
    },
    {
      "cell_type": "code",
      "source": [
        "import gradio\n",
        "import gradio as gr"
      ],
      "metadata": {
        "id": "hBSx3R9d-ZPY"
      },
      "execution_count": null,
      "outputs": []
    },
    {
      "cell_type": "code",
      "source": [
        "# UI - Input components\n",
        "## YOUR CODE HERE ...\n",
        "\n",
        "\n",
        "\n",
        "age_input = gr.Number(label = 'Enter the age of the Individual')\n",
        "sex_input = gr.Number(label = 'Enter the sex of the Individual')\n",
        "cp_input = gr.Number(label = 'Enter the cp of the Individual')\n",
        "trestbps_input = gr.Number(label = 'Enter the trestbps of the Individual')\n",
        "chol_input = gr.Number(label = 'Enter the chol of the Individual')\n",
        "fbs_input = gr.Number(label = 'Enter the fbs of the Individual')\n",
        "restecg_input = gr.Number(label = 'Enter the restecg of the Individual')\n",
        "thalach_input = gr.Number(label = 'Enter the thalach of the Individual')\n",
        "exang_input = gr.Number(label = 'Enter the exang of the Individual')\n",
        "oldpeak_input = gr.Number(label = 'Enter the oldpeak of the Individual')\n",
        "slope_input = gr.Number(label = 'Enter the slope of the Individual')\n",
        "ca_input = gr.Number(label = 'Enter the ca of the Individual')\n",
        "thal_input = gr.Textbox(label = 'Enter the thal of the Individual')\n",
        "\n",
        "\n",
        "# UI - Output component\n",
        "## YOUR CODE HERE ...\n",
        "# We create the output\n",
        "output = gr.Textbox()\n",
        "\n",
        "\n"
      ],
      "metadata": {
        "id": "n0xjbMCCDRVe"
      },
      "execution_count": null,
      "outputs": []
    },
    {
      "cell_type": "code",
      "source": [
        "# Label prediction function\n",
        "\n",
        "## YOUR CODE HERE\n",
        "\n",
        "def predict_output(age_input , sex_input,cp_input ,trestbps_input, chol_input , fbs_input, restecg_input, thalach_input ,exang_input ,oldpeak_input,slope_input,ca_input, thal_input):\n",
        "\n",
        "    #age_input , sex_input,cp_input ,trestbps_input, chol_input , fbs_input, restecg_input, thalach_input ,exang_input ,oldpeak_input,slope_input,ca_input, thal_input = my_list\n",
        "\n",
        "    input_json = {'age': age_input , 'sex' : sex_input, 'cp' : cp_input , 'trestbps': trestbps_input, 'chol' : chol_input , 'fbs': fbs_input, 'restecg' : restecg_input, 'thalach' : thalach_input , 'exang' : exang_input , 'oldpeak' : oldpeak_input, 'slope': slope_input,'ca' : ca_input , 'thal' : thal_input  }\n",
        "\n",
        "    sample_df = pd.DataFrame([input_json])\n",
        "    sample_df = sample_df.replace(cat_to_num_dict)\n",
        "    #sample_df.head()\n",
        "\n",
        "    return heart_classif_model.predict(x=sample_df)[0][0]\n"
      ],
      "metadata": {
        "id": "WWz_AyJ-Irt1"
      },
      "execution_count": null,
      "outputs": []
    },
    {
      "cell_type": "code",
      "source": [
        "# Create Gradio interface object and launch it with (share=True)\n",
        "\n",
        "## YOUR CODE HERE\n",
        "\n",
        "input_list = [ age_input , sex_input,cp_input ,trestbps_input, chol_input , fbs_input, restecg_input, thalach_input ,exang_input ,oldpeak_input,slope_input,ca_input, thal_input]\n",
        "\n",
        "\n",
        "app = gr.Interface(fn = predict_output, inputs= input_list, outputs=output)\n",
        "app.launch(debug=True)\n"
      ],
      "metadata": {
        "id": "R50gAGZlIrrF",
        "colab": {
          "base_uri": "https://localhost:8080/",
          "height": 732
        },
        "outputId": "92895079-dd44-4737-8d6b-0d00d1a076a3"
      },
      "execution_count": null,
      "outputs": [
        {
          "output_type": "stream",
          "name": "stdout",
          "text": [
            "Running Gradio in a Colab notebook requires sharing enabled. Automatically setting `share=True` (you can turn this off by setting `share=False` in `launch()` explicitly).\n",
            "\n",
            "Colab notebook detected. This cell will run indefinitely so that you can see errors and logs. To turn off, set debug=False in launch().\n",
            "* Running on public URL: https://d815ed090eb26a77fd.gradio.live\n",
            "\n",
            "This share link expires in 72 hours. For free permanent hosting and GPU upgrades, run `gradio deploy` from the terminal in the working directory to deploy to Hugging Face Spaces (https://huggingface.co/spaces)\n"
          ]
        },
        {
          "output_type": "display_data",
          "data": {
            "text/plain": [
              "<IPython.core.display.HTML object>"
            ],
            "text/html": [
              "<div><iframe src=\"https://d815ed090eb26a77fd.gradio.live\" width=\"100%\" height=\"500\" allow=\"autoplay; camera; microphone; clipboard-read; clipboard-write;\" frameborder=\"0\" allowfullscreen></iframe></div>"
            ]
          },
          "metadata": {}
        },
        {
          "output_type": "stream",
          "name": "stdout",
          "text": [
            "\u001b[1m1/1\u001b[0m \u001b[32m━━━━━━━━━━━━━━━━━━━━\u001b[0m\u001b[37m\u001b[0m \u001b[1m0s\u001b[0m 38ms/step\n"
          ]
        },
        {
          "output_type": "stream",
          "name": "stderr",
          "text": [
            "<ipython-input-115-30d311cda541>:12: FutureWarning: Downcasting behavior in `replace` is deprecated and will be removed in a future version. To retain the old behavior, explicitly call `result.infer_objects(copy=False)`. To opt-in to the future behavior, set `pd.set_option('future.no_silent_downcasting', True)`\n",
            "  sample_df = sample_df.replace(cat_to_num_dict)\n"
          ]
        },
        {
          "output_type": "stream",
          "name": "stdout",
          "text": [
            "Keyboard interruption in main thread... closing server.\n",
            "Killing tunnel 127.0.0.1:7863 <> https://d815ed090eb26a77fd.gradio.live\n"
          ]
        },
        {
          "output_type": "execute_result",
          "data": {
            "text/plain": []
          },
          "metadata": {},
          "execution_count": 116
        }
      ]
    }
  ],
  "metadata": {
    "colab": {
      "provenance": []
    },
    "kernelspec": {
      "display_name": "Python 3",
      "name": "python3"
    },
    "language_info": {
      "codemirror_mode": {
        "name": "ipython",
        "version": 3
      },
      "file_extension": ".py",
      "mimetype": "text/x-python",
      "name": "python",
      "nbconvert_exporter": "python",
      "pygments_lexer": "ipython3",
      "version": "3.7.0"
    }
  },
  "nbformat": 4,
  "nbformat_minor": 0
}